{
 "cells": [
  {
   "cell_type": "code",
   "execution_count": 2,
   "id": "fd6d95cb",
   "metadata": {},
   "outputs": [],
   "source": [
    "# Taken from https://stackabuse.com/k-nearest-neighbors-algorithm-in-python-and-scikit-learn/ \n",
    "\n",
    "import numpy as np\n",
    "import matplotlib.pyplot as plt\n",
    "import pandas as pd\n",
    "\n",
    "url = \"https://archive.ics.uci.edu/ml/machine-learning-databases/iris/iris.data\"\n",
    "\n",
    "names = ['sepal-length', 'sepal-width', 'petal-length', 'petal-width', 'Class']\n",
    "dataset = pd.read_csv(url, names=names)"
   ]
  },
  {
   "cell_type": "code",
   "execution_count": 3,
   "id": "eb3d4e22",
   "metadata": {
    "scrolled": true
   },
   "outputs": [
    {
     "data": {
      "text/html": [
       "<div>\n",
       "<style scoped>\n",
       "    .dataframe tbody tr th:only-of-type {\n",
       "        vertical-align: middle;\n",
       "    }\n",
       "\n",
       "    .dataframe tbody tr th {\n",
       "        vertical-align: top;\n",
       "    }\n",
       "\n",
       "    .dataframe thead th {\n",
       "        text-align: right;\n",
       "    }\n",
       "</style>\n",
       "<table border=\"1\" class=\"dataframe\">\n",
       "  <thead>\n",
       "    <tr style=\"text-align: right;\">\n",
       "      <th></th>\n",
       "      <th>sepal-length</th>\n",
       "      <th>sepal-width</th>\n",
       "      <th>petal-length</th>\n",
       "      <th>petal-width</th>\n",
       "      <th>Class</th>\n",
       "    </tr>\n",
       "  </thead>\n",
       "  <tbody>\n",
       "    <tr>\n",
       "      <th>0</th>\n",
       "      <td>5.1</td>\n",
       "      <td>3.5</td>\n",
       "      <td>1.4</td>\n",
       "      <td>0.2</td>\n",
       "      <td>Iris-setosa</td>\n",
       "    </tr>\n",
       "    <tr>\n",
       "      <th>1</th>\n",
       "      <td>4.9</td>\n",
       "      <td>3.0</td>\n",
       "      <td>1.4</td>\n",
       "      <td>0.2</td>\n",
       "      <td>Iris-setosa</td>\n",
       "    </tr>\n",
       "    <tr>\n",
       "      <th>2</th>\n",
       "      <td>4.7</td>\n",
       "      <td>3.2</td>\n",
       "      <td>1.3</td>\n",
       "      <td>0.2</td>\n",
       "      <td>Iris-setosa</td>\n",
       "    </tr>\n",
       "    <tr>\n",
       "      <th>3</th>\n",
       "      <td>4.6</td>\n",
       "      <td>3.1</td>\n",
       "      <td>1.5</td>\n",
       "      <td>0.2</td>\n",
       "      <td>Iris-setosa</td>\n",
       "    </tr>\n",
       "    <tr>\n",
       "      <th>4</th>\n",
       "      <td>5.0</td>\n",
       "      <td>3.6</td>\n",
       "      <td>1.4</td>\n",
       "      <td>0.2</td>\n",
       "      <td>Iris-setosa</td>\n",
       "    </tr>\n",
       "  </tbody>\n",
       "</table>\n",
       "</div>"
      ],
      "text/plain": [
       "   sepal-length  sepal-width  petal-length  petal-width        Class\n",
       "0           5.1          3.5           1.4          0.2  Iris-setosa\n",
       "1           4.9          3.0           1.4          0.2  Iris-setosa\n",
       "2           4.7          3.2           1.3          0.2  Iris-setosa\n",
       "3           4.6          3.1           1.5          0.2  Iris-setosa\n",
       "4           5.0          3.6           1.4          0.2  Iris-setosa"
      ]
     },
     "execution_count": 3,
     "metadata": {},
     "output_type": "execute_result"
    }
   ],
   "source": [
    "dataset.head()"
   ]
  },
  {
   "cell_type": "code",
   "execution_count": 4,
   "id": "07577870",
   "metadata": {
    "scrolled": true
   },
   "outputs": [
    {
     "name": "stdout",
     "output_type": "stream",
     "text": [
      "['Iris-setosa' 'Iris-setosa' 'Iris-setosa' 'Iris-setosa' 'Iris-setosa'\n",
      " 'Iris-setosa' 'Iris-setosa' 'Iris-setosa' 'Iris-setosa' 'Iris-setosa'\n",
      " 'Iris-setosa' 'Iris-setosa' 'Iris-setosa' 'Iris-setosa' 'Iris-setosa'\n",
      " 'Iris-setosa' 'Iris-setosa' 'Iris-setosa' 'Iris-setosa' 'Iris-setosa'\n",
      " 'Iris-setosa' 'Iris-setosa' 'Iris-setosa' 'Iris-setosa' 'Iris-setosa'\n",
      " 'Iris-setosa' 'Iris-setosa' 'Iris-setosa' 'Iris-setosa' 'Iris-setosa'\n",
      " 'Iris-setosa' 'Iris-setosa' 'Iris-setosa' 'Iris-setosa' 'Iris-setosa'\n",
      " 'Iris-setosa' 'Iris-setosa' 'Iris-setosa' 'Iris-setosa' 'Iris-setosa'\n",
      " 'Iris-setosa' 'Iris-setosa' 'Iris-setosa' 'Iris-setosa' 'Iris-setosa'\n",
      " 'Iris-setosa' 'Iris-setosa' 'Iris-setosa' 'Iris-setosa' 'Iris-setosa'\n",
      " 'Iris-versicolor' 'Iris-versicolor' 'Iris-versicolor' 'Iris-versicolor'\n",
      " 'Iris-versicolor' 'Iris-versicolor' 'Iris-versicolor' 'Iris-versicolor'\n",
      " 'Iris-versicolor' 'Iris-versicolor' 'Iris-versicolor' 'Iris-versicolor'\n",
      " 'Iris-versicolor' 'Iris-versicolor' 'Iris-versicolor' 'Iris-versicolor'\n",
      " 'Iris-versicolor' 'Iris-versicolor' 'Iris-versicolor' 'Iris-versicolor'\n",
      " 'Iris-versicolor' 'Iris-versicolor' 'Iris-versicolor' 'Iris-versicolor'\n",
      " 'Iris-versicolor' 'Iris-versicolor' 'Iris-versicolor' 'Iris-versicolor'\n",
      " 'Iris-versicolor' 'Iris-versicolor' 'Iris-versicolor' 'Iris-versicolor'\n",
      " 'Iris-versicolor' 'Iris-versicolor' 'Iris-versicolor' 'Iris-versicolor'\n",
      " 'Iris-versicolor' 'Iris-versicolor' 'Iris-versicolor' 'Iris-versicolor'\n",
      " 'Iris-versicolor' 'Iris-versicolor' 'Iris-versicolor' 'Iris-versicolor'\n",
      " 'Iris-versicolor' 'Iris-versicolor' 'Iris-versicolor' 'Iris-versicolor'\n",
      " 'Iris-versicolor' 'Iris-versicolor' 'Iris-virginica' 'Iris-virginica'\n",
      " 'Iris-virginica' 'Iris-virginica' 'Iris-virginica' 'Iris-virginica'\n",
      " 'Iris-virginica' 'Iris-virginica' 'Iris-virginica' 'Iris-virginica'\n",
      " 'Iris-virginica' 'Iris-virginica' 'Iris-virginica' 'Iris-virginica'\n",
      " 'Iris-virginica' 'Iris-virginica' 'Iris-virginica' 'Iris-virginica'\n",
      " 'Iris-virginica' 'Iris-virginica' 'Iris-virginica' 'Iris-virginica'\n",
      " 'Iris-virginica' 'Iris-virginica' 'Iris-virginica' 'Iris-virginica'\n",
      " 'Iris-virginica' 'Iris-virginica' 'Iris-virginica' 'Iris-virginica'\n",
      " 'Iris-virginica' 'Iris-virginica' 'Iris-virginica' 'Iris-virginica'\n",
      " 'Iris-virginica' 'Iris-virginica' 'Iris-virginica' 'Iris-virginica'\n",
      " 'Iris-virginica' 'Iris-virginica' 'Iris-virginica' 'Iris-virginica'\n",
      " 'Iris-virginica' 'Iris-virginica' 'Iris-virginica' 'Iris-virginica'\n",
      " 'Iris-virginica' 'Iris-virginica' 'Iris-virginica' 'Iris-virginica']\n"
     ]
    }
   ],
   "source": [
    "X = dataset.iloc[:, :-1].values\n",
    "y = dataset.iloc[:, 4].values\n",
    "print(y)"
   ]
  },
  {
   "cell_type": "code",
   "execution_count": 5,
   "id": "b062fc5f",
   "metadata": {
    "scrolled": false
   },
   "outputs": [
    {
     "name": "stdout",
     "output_type": "stream",
     "text": [
      "[[5.1 3.4 1.5 0.2]\n",
      " [5.5 2.3 4.  1.3]\n",
      " [5.7 2.6 3.5 1. ]\n",
      " [5.4 3.7 1.5 0.2]\n",
      " [7.  3.2 4.7 1.4]\n",
      " [5.  3.3 1.4 0.2]\n",
      " [5.  3.5 1.6 0.6]\n",
      " [7.7 3.  6.1 2.3]\n",
      " [5.  3.5 1.3 0.3]\n",
      " [6.4 3.2 5.3 2.3]\n",
      " [5.8 2.7 5.1 1.9]\n",
      " [5.6 2.5 3.9 1.1]\n",
      " [5.1 3.5 1.4 0.3]\n",
      " [5.1 3.8 1.6 0.2]\n",
      " [6.5 2.8 4.6 1.5]\n",
      " [6.2 2.8 4.8 1.8]\n",
      " [5.9 3.  4.2 1.5]\n",
      " [6.7 3.3 5.7 2.1]\n",
      " [7.7 3.8 6.7 2.2]\n",
      " [5.4 3.4 1.7 0.2]\n",
      " [6.3 2.5 5.  1.9]\n",
      " [5.  3.2 1.2 0.2]\n",
      " [4.6 3.4 1.4 0.3]\n",
      " [5.7 4.4 1.5 0.4]\n",
      " [5.2 3.4 1.4 0.2]\n",
      " [6.2 2.9 4.3 1.3]\n",
      " [6.3 3.3 4.7 1.6]\n",
      " [5.5 2.4 3.7 1. ]\n",
      " [5.1 2.5 3.  1.1]\n",
      " [5.9 3.  5.1 1.8]\n",
      " [5.  2.  3.5 1. ]\n",
      " [6.5 3.  5.2 2. ]\n",
      " [6.5 3.  5.8 2.2]\n",
      " [6.9 3.1 4.9 1.5]\n",
      " [4.6 3.6 1.  0.2]\n",
      " [6.6 3.  4.4 1.4]\n",
      " [4.9 3.1 1.5 0.1]\n",
      " [6.7 3.  5.  1.7]\n",
      " [6.7 3.  5.2 2.3]\n",
      " [5.6 2.9 3.6 1.3]\n",
      " [6.3 3.4 5.6 2.4]\n",
      " [5.6 2.7 4.2 1.3]\n",
      " [6.1 3.  4.9 1.8]\n",
      " [6.3 2.3 4.4 1.3]\n",
      " [5.8 2.6 4.  1.2]\n",
      " [5.7 3.  4.2 1.2]\n",
      " [6.9 3.1 5.4 2.1]\n",
      " [6.8 2.8 4.8 1.4]\n",
      " [5.2 4.1 1.5 0.1]\n",
      " [5.8 2.7 5.1 1.9]\n",
      " [4.3 3.  1.1 0.1]\n",
      " [4.8 3.4 1.9 0.2]\n",
      " [5.2 2.7 3.9 1.4]\n",
      " [4.8 3.  1.4 0.3]\n",
      " [4.9 3.1 1.5 0.1]\n",
      " [7.9 3.8 6.4 2. ]\n",
      " [5.  2.3 3.3 1. ]\n",
      " [4.6 3.2 1.4 0.2]\n",
      " [6.5 3.  5.5 1.8]\n",
      " [4.9 3.1 1.5 0.1]\n",
      " [6.  2.2 5.  1.5]\n",
      " [5.5 2.6 4.4 1.2]\n",
      " [5.8 4.  1.2 0.2]\n",
      " [5.4 3.9 1.3 0.4]\n",
      " [6.4 2.7 5.3 1.9]\n",
      " [6.  3.4 4.5 1.6]\n",
      " [5.5 2.5 4.  1.3]\n",
      " [5.5 4.2 1.4 0.2]\n",
      " [4.7 3.2 1.6 0.2]\n",
      " [6.9 3.2 5.7 2.3]\n",
      " [6.  2.9 4.5 1.5]\n",
      " [6.1 3.  4.6 1.4]\n",
      " [4.6 3.1 1.5 0.2]\n",
      " [5.7 2.8 4.5 1.3]\n",
      " [6.  3.  4.8 1.8]\n",
      " [5.8 2.7 4.1 1. ]\n",
      " [4.8 3.4 1.6 0.2]\n",
      " [6.  2.2 4.  1. ]\n",
      " [6.4 3.1 5.5 1.8]\n",
      " [6.7 2.5 5.8 1.8]\n",
      " [6.3 3.3 6.  2.5]\n",
      " [6.8 3.2 5.9 2.3]\n",
      " [5.7 3.8 1.7 0.3]\n",
      " [5.1 3.8 1.5 0.3]\n",
      " [6.  2.7 5.1 1.6]\n",
      " [7.7 2.8 6.7 2. ]\n",
      " [4.4 3.  1.3 0.2]\n",
      " [6.2 2.2 4.5 1.5]\n",
      " [4.7 3.2 1.3 0.2]\n",
      " [5.4 3.4 1.5 0.4]\n",
      " [6.7 3.1 5.6 2.4]\n",
      " [6.4 3.2 4.5 1.5]\n",
      " [7.6 3.  6.6 2.1]\n",
      " [5.5 3.5 1.3 0.2]\n",
      " [6.5 3.2 5.1 2. ]\n",
      " [5.  3.6 1.4 0.2]\n",
      " [6.9 3.1 5.1 2.3]\n",
      " [5.1 3.5 1.4 0.2]\n",
      " [6.6 2.9 4.6 1.3]\n",
      " [5.4 3.9 1.7 0.4]\n",
      " [6.3 2.9 5.6 1.8]\n",
      " [7.2 3.  5.8 1.6]\n",
      " [4.5 2.3 1.3 0.3]\n",
      " [4.9 2.5 4.5 1.7]\n",
      " [5.6 2.8 4.9 2. ]\n",
      " [7.2 3.2 6.  1.8]\n",
      " [6.7 3.1 4.7 1.5]\n",
      " [4.8 3.1 1.6 0.2]\n",
      " [6.7 3.1 4.4 1.4]\n",
      " [5.1 3.8 1.9 0.4]\n",
      " [5.2 3.5 1.5 0.2]\n",
      " [5.5 2.4 3.8 1.1]\n",
      " [5.7 2.5 5.  2. ]\n",
      " [5.  3.4 1.5 0.2]\n",
      " [6.8 3.  5.5 2.1]\n",
      " [4.4 2.9 1.4 0.2]\n",
      " [6.1 2.8 4.7 1.2]\n",
      " [6.7 3.3 5.7 2.5]\n",
      " [7.7 2.6 6.9 2.3]\n",
      " [5.7 2.8 4.1 1.3]]\n"
     ]
    }
   ],
   "source": [
    "from sklearn.model_selection import train_test_split\n",
    "X_train, X_test, y_train, y_test = train_test_split(X, y, test_size=0.20, random_state=5)\n",
    "print(X_train)"
   ]
  },
  {
   "cell_type": "code",
   "execution_count": 6,
   "id": "41a10036",
   "metadata": {},
   "outputs": [],
   "source": [
    "from sklearn.preprocessing import StandardScaler\n",
    "scaler = StandardScaler()\n",
    "scaler.fit(X_train)\n",
    "\n",
    "X_train = scaler.transform(X_train)\n",
    "X_test = scaler.transform(X_test)"
   ]
  },
  {
   "cell_type": "code",
   "execution_count": 7,
   "id": "c488b0df",
   "metadata": {
    "scrolled": false
   },
   "outputs": [
    {
     "name": "stdout",
     "output_type": "stream",
     "text": [
      "[[-0.88140924  0.72750289 -1.23547394 -1.26527703]\n",
      " [-0.40389633 -1.69139841  0.17434798  0.16834158]\n",
      " [-0.16513988 -1.03169805 -0.10761641 -0.22264531]\n",
      " [-0.52327456  1.38720324 -1.23547394 -1.26527703]\n",
      " [ 1.38677706  0.28770265  0.56909811  0.29867054]\n",
      " [-1.00078746  0.50760277 -1.29186681 -1.26527703]\n",
      " [-1.00078746  0.94740301 -1.17908106 -0.74396117]\n",
      " [ 2.22242464 -0.15209758  1.35859839  1.47163122]\n",
      " [-1.00078746  0.94740301 -1.34825969 -1.13494806]\n",
      " [ 0.6705077   0.28770265  0.90745537  1.47163122]\n",
      " [-0.04576165 -0.81179793  0.79466962  0.95031536]\n",
      " [-0.28451811 -1.25159817  0.1179551  -0.09231635]\n",
      " [-0.88140924  0.94740301 -1.29186681 -1.13494806]\n",
      " [-0.88140924  1.60710336 -1.17908106 -1.26527703]\n",
      " [ 0.78988593 -0.59189782  0.51270524  0.42899951]\n",
      " [ 0.43175125 -0.59189782  0.62549099  0.8199864 ]\n",
      " [ 0.07361657 -0.15209758  0.28713373  0.42899951]\n",
      " [ 1.02864238  0.50760277  1.13302688  1.21097329]\n",
      " [ 2.22242464  1.60710336  1.69695564  1.34130226]\n",
      " [-0.52327456  0.72750289 -1.12268818 -1.26527703]\n",
      " [ 0.55112948 -1.25159817  0.73827674  0.95031536]\n",
      " [-1.00078746  0.28770265 -1.40465257 -1.26527703]\n",
      " [-1.47830037  0.72750289 -1.29186681 -1.13494806]\n",
      " [-0.16513988  2.92650407 -1.23547394 -1.0046191 ]\n",
      " [-0.76203101  0.72750289 -1.29186681 -1.26527703]\n",
      " [ 0.43175125 -0.3719977   0.34352661  0.16834158]\n",
      " [ 0.55112948  0.50760277  0.56909811  0.55932847]\n",
      " [-0.40389633 -1.47149829  0.00516935 -0.22264531]\n",
      " [-0.88140924 -1.25159817 -0.38958079 -0.09231635]\n",
      " [ 0.07361657 -0.15209758  0.79466962  0.8199864 ]\n",
      " [-1.00078746 -2.35109876 -0.10761641 -0.22264531]\n",
      " [ 0.78988593 -0.15209758  0.8510625   1.08064433]\n",
      " [ 0.78988593 -0.15209758  1.18941976  1.34130226]\n",
      " [ 1.26739883  0.06780254  0.68188387  0.42899951]\n",
      " [-1.47830037  1.16730313 -1.51743832 -1.26527703]\n",
      " [ 0.90926416 -0.15209758  0.39991948  0.29867054]\n",
      " [-1.12016569  0.06780254 -1.23547394 -1.39560599]\n",
      " [ 1.02864238 -0.15209758  0.73827674  0.68965743]\n",
      " [ 1.02864238 -0.15209758  0.8510625   1.47163122]\n",
      " [-0.28451811 -0.3719977  -0.05122353  0.16834158]\n",
      " [ 0.55112948  0.72750289  1.076634    1.60196018]\n",
      " [-0.28451811 -0.81179793  0.28713373  0.16834158]\n",
      " [ 0.31237303 -0.15209758  0.68188387  0.8199864 ]\n",
      " [ 0.55112948 -1.69139841  0.39991948  0.16834158]\n",
      " [-0.04576165 -1.03169805  0.17434798  0.03801261]\n",
      " [-0.16513988 -0.15209758  0.28713373  0.03801261]\n",
      " [ 1.26739883  0.06780254  0.96384825  1.21097329]\n",
      " [ 1.14802061 -0.59189782  0.62549099  0.29867054]\n",
      " [-0.76203101  2.26680371 -1.23547394 -1.39560599]\n",
      " [-0.04576165 -0.81179793  0.79466962  0.95031536]\n",
      " [-1.83643505 -0.15209758 -1.46104544 -1.39560599]\n",
      " [-1.23954391  0.72750289 -1.00990243 -1.26527703]\n",
      " [-0.76203101 -0.81179793  0.1179551   0.29867054]\n",
      " [-1.23954391 -0.15209758 -1.29186681 -1.13494806]\n",
      " [-1.12016569  0.06780254 -1.23547394 -1.39560599]\n",
      " [ 2.4611811   1.60710336  1.52777701  1.08064433]\n",
      " [-1.00078746 -1.69139841 -0.22040216 -0.22264531]\n",
      " [-1.47830037  0.28770265 -1.29186681 -1.26527703]\n",
      " [ 0.78988593 -0.15209758  1.02024113  0.8199864 ]\n",
      " [-1.12016569  0.06780254 -1.23547394 -1.39560599]\n",
      " [ 0.1929948  -1.91129852  0.73827674  0.42899951]\n",
      " [-0.40389633 -1.03169805  0.39991948  0.03801261]\n",
      " [-0.04576165  2.0469036  -1.40465257 -1.26527703]\n",
      " [-0.52327456  1.82700348 -1.34825969 -1.0046191 ]\n",
      " [ 0.6705077  -0.81179793  0.90745537  0.95031536]\n",
      " [ 0.1929948   0.72750289  0.45631236  0.55932847]\n",
      " [-0.40389633 -1.25159817  0.17434798  0.16834158]\n",
      " [-0.40389633  2.48670383 -1.29186681 -1.26527703]\n",
      " [-1.35892214  0.28770265 -1.17908106 -1.26527703]\n",
      " [ 1.26739883  0.28770265  1.13302688  1.47163122]\n",
      " [ 0.1929948  -0.3719977   0.45631236  0.42899951]\n",
      " [ 0.31237303 -0.15209758  0.51270524  0.29867054]\n",
      " [-1.47830037  0.06780254 -1.23547394 -1.26527703]\n",
      " [-0.16513988 -0.59189782  0.45631236  0.16834158]\n",
      " [ 0.1929948  -0.15209758  0.62549099  0.8199864 ]\n",
      " [-0.04576165 -0.81179793  0.23074085 -0.22264531]\n",
      " [-1.23954391  0.72750289 -1.17908106 -1.26527703]\n",
      " [ 0.1929948  -1.91129852  0.17434798 -0.22264531]\n",
      " [ 0.6705077   0.06780254  1.02024113  0.8199864 ]\n",
      " [ 1.02864238 -1.25159817  1.18941976  0.8199864 ]\n",
      " [ 0.55112948  0.50760277  1.30220551  1.73228915]\n",
      " [ 1.14802061  0.28770265  1.24581263  1.47163122]\n",
      " [-0.16513988  1.60710336 -1.12268818 -1.13494806]\n",
      " [-0.88140924  1.60710336 -1.23547394 -1.13494806]\n",
      " [ 0.1929948  -0.81179793  0.79466962  0.55932847]\n",
      " [ 2.22242464 -0.59189782  1.69695564  1.08064433]\n",
      " [-1.71705682 -0.15209758 -1.34825969 -1.26527703]\n",
      " [ 0.43175125 -1.91129852  0.45631236  0.42899951]\n",
      " [-1.35892214  0.28770265 -1.34825969 -1.26527703]\n",
      " [-0.52327456  0.72750289 -1.23547394 -1.0046191 ]\n",
      " [ 1.02864238  0.06780254  1.076634    1.60196018]\n",
      " [ 0.6705077   0.28770265  0.45631236  0.42899951]\n",
      " [ 2.10304642 -0.15209758  1.64056277  1.21097329]\n",
      " [-0.40389633  0.94740301 -1.34825969 -1.26527703]\n",
      " [ 0.78988593  0.28770265  0.79466962  1.08064433]\n",
      " [-1.00078746  1.16730313 -1.29186681 -1.26527703]\n",
      " [ 1.26739883  0.06780254  0.79466962  1.47163122]\n",
      " [-0.88140924  0.94740301 -1.29186681 -1.26527703]\n",
      " [ 0.90926416 -0.3719977   0.51270524  0.16834158]\n",
      " [-0.52327456  1.82700348 -1.12268818 -1.0046191 ]\n",
      " [ 0.55112948 -0.3719977   1.076634    0.8199864 ]\n",
      " [ 1.62553351 -0.15209758  1.18941976  0.55932847]\n",
      " [-1.59767859 -1.69139841 -1.34825969 -1.13494806]\n",
      " [-1.12016569 -1.25159817  0.45631236  0.68965743]\n",
      " [-0.28451811 -0.59189782  0.68188387  1.08064433]\n",
      " [ 1.62553351  0.28770265  1.30220551  0.8199864 ]\n",
      " [ 1.02864238  0.06780254  0.56909811  0.42899951]\n",
      " [-1.23954391  0.06780254 -1.17908106 -1.26527703]\n",
      " [ 1.02864238  0.06780254  0.39991948  0.29867054]\n",
      " [-0.88140924  1.60710336 -1.00990243 -1.0046191 ]\n",
      " [-0.76203101  0.94740301 -1.23547394 -1.26527703]\n",
      " [-0.40389633 -1.47149829  0.06156222 -0.09231635]\n",
      " [-0.16513988 -1.25159817  0.73827674  1.08064433]\n",
      " [-1.00078746  0.72750289 -1.23547394 -1.26527703]\n",
      " [ 1.14802061 -0.15209758  1.02024113  1.21097329]\n",
      " [-1.71705682 -0.3719977  -1.29186681 -1.26527703]\n",
      " [ 0.31237303 -0.59189782  0.56909811  0.03801261]\n",
      " [ 1.02864238  0.50760277  1.13302688  1.73228915]\n",
      " [ 2.22242464 -1.03169805  1.8097414   1.47163122]\n",
      " [-0.16513988 -0.59189782  0.23074085  0.16834158]]\n"
     ]
    }
   ],
   "source": [
    "print(X_train)"
   ]
  },
  {
   "cell_type": "code",
   "execution_count": 8,
   "id": "57a66db1",
   "metadata": {},
   "outputs": [
    {
     "data": {
      "text/plain": [
       "KNeighborsClassifier()"
      ]
     },
     "execution_count": 8,
     "metadata": {},
     "output_type": "execute_result"
    }
   ],
   "source": [
    "from sklearn.neighbors import KNeighborsClassifier\n",
    "classifier = KNeighborsClassifier(n_neighbors=5)\n",
    "classifier.fit(X_train, y_train)"
   ]
  },
  {
   "cell_type": "code",
   "execution_count": 9,
   "id": "21eb6835",
   "metadata": {},
   "outputs": [],
   "source": [
    "y_pred = classifier.predict(X_test)"
   ]
  },
  {
   "cell_type": "code",
   "execution_count": 10,
   "id": "0ea835be",
   "metadata": {
    "scrolled": true
   },
   "outputs": [
    {
     "name": "stdout",
     "output_type": "stream",
     "text": [
      "[[ 8  0  0]\n",
      " [ 0 10  1]\n",
      " [ 0  1 10]]\n",
      "                 precision    recall  f1-score   support\n",
      "\n",
      "    Iris-setosa       1.00      1.00      1.00         8\n",
      "Iris-versicolor       0.91      0.91      0.91        11\n",
      " Iris-virginica       0.91      0.91      0.91        11\n",
      "\n",
      "       accuracy                           0.93        30\n",
      "      macro avg       0.94      0.94      0.94        30\n",
      "   weighted avg       0.93      0.93      0.93        30\n",
      "\n"
     ]
    },
    {
     "data": {
      "text/plain": [
       "'\\n              setosa       versicolor     virginica \\nsetosa           8              0             0\\nversicolor       0              10            1\\nvirginica        0              1             10\\n\\ntrue positives Correct HITS\\ntrue negatives Correct MISSES\\nfalse positives (Type 1 Error)\\nfalse negatives (Type 2 Error)\\n\\n\\nPrecision = True Positives / (True Positives + False Positives)\\nRecall = True Positives / (True Positives + False Negatives)\\nF1 Score = (2 * Precision * Recall) / (Precision + Recall) # harmonic mean of precision and recall\\n'"
      ]
     },
     "execution_count": 10,
     "metadata": {},
     "output_type": "execute_result"
    }
   ],
   "source": [
    "from sklearn.metrics import classification_report, confusion_matrix\n",
    "print(confusion_matrix(y_test, y_pred))\n",
    "print(classification_report(y_test, y_pred))\n",
    "\"\"\"\n",
    "              setosa       versicolor     virginica \n",
    "setosa           8              0             0\n",
    "versicolor       0              10            1\n",
    "virginica        0              1             10\n",
    "\n",
    "true positives Correct HITS\n",
    "true negatives Correct MISSES\n",
    "false positives (Type 1 Error)\n",
    "false negatives (Type 2 Error)\n",
    "\n",
    "\n",
    "Precision = True Positives / (True Positives + False Positives)\n",
    "Recall = True Positives / (True Positives + False Negatives)\n",
    "F1 Score = (2 * Precision * Recall) / (Precision + Recall) # harmonic mean of precision and recall\n",
    "\"\"\""
   ]
  },
  {
   "cell_type": "code",
   "execution_count": 11,
   "id": "4b95f6ad",
   "metadata": {},
   "outputs": [
    {
     "name": "stdout",
     "output_type": "stream",
     "text": [
      "['Iris-versicolor' 'Iris-versicolor' 'Iris-virginica' 'Iris-setosa'\n",
      " 'Iris-virginica' 'Iris-versicolor' 'Iris-setosa' 'Iris-virginica'\n",
      " 'Iris-setosa' 'Iris-versicolor' 'Iris-versicolor' 'Iris-versicolor'\n",
      " 'Iris-virginica' 'Iris-virginica' 'Iris-setosa' 'Iris-setosa'\n",
      " 'Iris-virginica' 'Iris-virginica' 'Iris-setosa' 'Iris-setosa'\n",
      " 'Iris-versicolor' 'Iris-virginica' 'Iris-setosa' 'Iris-virginica'\n",
      " 'Iris-versicolor' 'Iris-virginica' 'Iris-versicolor' 'Iris-versicolor'\n",
      " 'Iris-versicolor' 'Iris-virginica']\n"
     ]
    }
   ],
   "source": [
    "error = []\n",
    "\n",
    "for i in range(1, 40):\n",
    "    knn = KNeighborsClassifier(n_neighbors=i) # different values of K\n",
    "    knn.fit(X_train, y_train)\n",
    "    pred_i = knn.predict(X_test)\n",
    "    if i == 1: print(pred_i)\n",
    "    error.append(np.mean(pred_i != y_test))"
   ]
  },
  {
   "cell_type": "code",
   "execution_count": 12,
   "id": "36f0f7cb",
   "metadata": {},
   "outputs": [
    {
     "data": {
      "image/png": "[encoded data removed]",
      "text/plain": [
       "<Figure size 864x432 with 1 Axes>"
      ]
     },
     "metadata": {
      "needs_background": "light"
     },
     "output_type": "display_data"
    }
   ],
   "source": [
    "plt.figure(figsize=(12,6))\n",
    "plt.plot(range(1,40), error, color='red', linestyle='dashed', marker='x', markerfacecolor='blue', markersize=10)\n",
    "plt.title('Error Rate')\n",
    "plt.xlabel('K')\n",
    "plt.ylabel('Mean Error')\n",
    "plt.show()"
   ]
  },
  {
   "cell_type": "code",
   "execution_count": 13,
   "id": "484b6170",
   "metadata": {},
   "outputs": [],
   "source": [
    "from scipy.stats import mode\n",
    "\n",
    "def knn_manual(D_x, D_y, K, x_hats):\n",
    "    results = np.array([])\n",
    "    for x_hat in x_hats:\n",
    "        # empty 2d array\n",
    "        neighbor_distance = np.empty((2))\n",
    "        \n",
    "        for i in range(len(D_x)):\n",
    "            # distance formula\n",
    "            distance_pair = np.array([i, np.sqrt(np.sum((D_x[i]-x_hat)**2))])\n",
    "            neighbor_distance = np.vstack([neighbor_distance, distance_pair])\n",
    "\n",
    "        # sorting the array based on the lowest distance (the second value of the 2nd dimension array)\n",
    "        neighbor_distance = neighbor_distance[neighbor_distance[:,1].argsort()]\n",
    "        \n",
    "        # getting the index of the K nearest neighbors\n",
    "        desired_rows = neighbor_distance[:K,0].astype('int')\n",
    "        \n",
    "        # getting the mode of the K nearest neighbors' labels\n",
    "        results = np.append(results, mode(D_y[desired_rows])[0][0])\n",
    "    return results"
   ]
  },
  {
   "cell_type": "code",
   "execution_count": 14,
   "id": "47066e79",
   "metadata": {},
   "outputs": [
    {
     "name": "stdout",
     "output_type": "stream",
     "text": [
      "['Iris-versicolor' 'Iris-setosa' 'Iris-setosa' 'Iris-setosa' 'Iris-setosa'\n",
      " 'Iris-setosa' 'Iris-setosa' 'Iris-setosa' 'Iris-setosa' 'Iris-setosa'\n",
      " 'Iris-setosa' 'Iris-setosa' 'Iris-setosa' 'Iris-setosa' 'Iris-setosa'\n",
      " 'Iris-setosa' 'Iris-setosa' 'Iris-setosa' 'Iris-setosa' 'Iris-setosa'\n",
      " 'Iris-setosa' 'Iris-setosa' 'Iris-setosa' 'Iris-setosa' 'Iris-setosa'\n",
      " 'Iris-setosa' 'Iris-setosa' 'Iris-setosa' 'Iris-setosa' 'Iris-setosa']\n"
     ]
    }
   ],
   "source": [
    "error = []\n",
    "\n",
    "for i in range(1,40):\n",
    "    pred_i = knn_manual(X_train, y_train, i, X_test) # different values of K\n",
    "    if i == 1: print(pred_i)\n",
    "    error.append(np.mean(pred_i != y_test))"
   ]
  },
  {
   "cell_type": "code",
   "execution_count": 16,
   "id": "eab93eb5",
   "metadata": {},
   "outputs": [
    {
     "data": {
      "image/png": "[encoded data removed]",
      "text/plain": [
       "<Figure size 864x432 with 1 Axes>"
      ]
     },
     "metadata": {
      "needs_background": "light"
     },
     "output_type": "display_data"
    }
   ],
   "source": [
    "plt.figure(figsize=(12,6))\n",
    "plt.plot(range(1,40), error, color='red', linestyle='dashed', marker='x', markerfacecolor='blue', markersize=10)\n",
    "plt.title('Error Rate')\n",
    "plt.xlabel('K')\n",
    "plt.ylabel('Mean Error')\n",
    "plt.show()"
   ]
  }
 ],
 "metadata": {
  "kernelspec": {
   "display_name": "Python 3 (ipykernel)",
   "language": "python",
   "name": "python3"
  },
  "language_info": {
   "codemirror_mode": {
    "name": "ipython",
    "version": 3
   },
   "file_extension": ".py",
   "mimetype": "text/x-python",
   "name": "python",
   "nbconvert_exporter": "python",
   "pygments_lexer": "ipython3",
   "version": "3.10.4"
  }
 },
 "nbformat": 4,
 "nbformat_minor": 5
}
